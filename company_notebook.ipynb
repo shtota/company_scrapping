{
 "cells": [
  {
   "cell_type": "code",
   "execution_count": 36,
   "metadata": {},
   "outputs": [],
   "source": [
    "import pandas as pd\n",
    "import seaborn as sns\n",
    "from bs4 import BeautifulSoup\n",
    "from bs4.element import Comment\n",
    "import urllib.request\n",
    "from urllib.request import URLError\n",
    "import requests\n",
    "%matplotlib inline\n",
    "sns.set()"
   ]
  },
  {
   "cell_type": "code",
   "execution_count": 2,
   "metadata": {
    "collapsed": true,
    "jupyter": {
     "outputs_hidden": true
    }
   },
   "outputs": [
    {
     "name": "stderr",
     "output_type": "stream",
     "text": [
      "b'Skipping line 69743: expected 10 fields, saw 11\\nSkipping line 101632: expected 10 fields, saw 11\\n'\n",
      "b'Skipping line 157754: expected 10 fields, saw 11\\nSkipping line 189017: expected 10 fields, saw 11\\n'\n",
      "b'Skipping line 308592: expected 10 fields, saw 11\\nSkipping line 312800: expected 10 fields, saw 11\\n'\n",
      "b'Skipping line 333445: expected 10 fields, saw 11\\nSkipping line 353899: expected 10 fields, saw 11\\nSkipping line 361250: expected 10 fields, saw 11\\nSkipping line 374180: expected 10 fields, saw 11\\nSkipping line 374658: expected 10 fields, saw 11\\n'\n",
      "b'Skipping line 416636: expected 10 fields, saw 11\\nSkipping line 435987: expected 10 fields, saw 11\\nSkipping line 455847: expected 10 fields, saw 11\\n'\n",
      "b'Skipping line 463320: expected 10 fields, saw 11\\nSkipping line 481278: expected 10 fields, saw 11\\nSkipping line 500441: expected 10 fields, saw 11\\nSkipping line 504289: expected 10 fields, saw 11\\n'\n",
      "b'Skipping line 530687: expected 10 fields, saw 11\\nSkipping line 542886: expected 10 fields, saw 11\\n'\n",
      "b'Skipping line 685984: expected 10 fields, saw 11\\nSkipping line 698387: expected 10 fields, saw 11\\nSkipping line 707451: expected 10 fields, saw 12\\n'\n",
      "b'Skipping line 727248: expected 10 fields, saw 11\\nSkipping line 761507: expected 10 fields, saw 12\\nSkipping line 778187: expected 10 fields, saw 12\\n'\n",
      "b'Skipping line 793809: expected 10 fields, saw 11\\nSkipping line 808826: expected 10 fields, saw 11\\nSkipping line 820281: expected 10 fields, saw 14\\n'\n",
      "b'Skipping line 869771: expected 10 fields, saw 11\\n'\n",
      "b'Skipping line 938174: expected 10 fields, saw 11\\nSkipping line 949233: expected 10 fields, saw 12\\n'\n",
      "b'Skipping line 1002732: expected 10 fields, saw 11\\n'\n",
      "b'Skipping line 1068804: expected 10 fields, saw 11\\nSkipping line 1099621: expected 10 fields, saw 11\\n'\n",
      "b'Skipping line 1123990: expected 10 fields, saw 11\\n'\n",
      "b'Skipping line 1224138: expected 10 fields, saw 11\\nSkipping line 1227206: expected 10 fields, saw 12\\n'\n",
      "b'Skipping line 1302615: expected 10 fields, saw 12\\n'\n",
      "b'Skipping line 1311726: expected 10 fields, saw 11\\nSkipping line 1316416: expected 10 fields, saw 11\\nSkipping line 1364055: expected 10 fields, saw 11\\n'\n",
      "b'Skipping line 1387413: expected 10 fields, saw 12\\nSkipping line 1415024: expected 10 fields, saw 12\\nSkipping line 1441433: expected 10 fields, saw 11\\n'\n",
      "b'Skipping line 1465650: expected 10 fields, saw 11\\nSkipping line 1471410: expected 10 fields, saw 11\\nSkipping line 1500271: expected 10 fields, saw 12\\nSkipping line 1504482: expected 10 fields, saw 14\\nSkipping line 1507357: expected 10 fields, saw 12\\n'\n",
      "b'Skipping line 1529146: expected 10 fields, saw 11\\nSkipping line 1532752: expected 10 fields, saw 11\\nSkipping line 1540015: expected 10 fields, saw 11\\nSkipping line 1561256: expected 10 fields, saw 11\\n'\n",
      "b'Skipping line 1588609: expected 10 fields, saw 11\\nSkipping line 1597395: expected 10 fields, saw 13\\nSkipping line 1606589: expected 10 fields, saw 11\\nSkipping line 1612226: expected 10 fields, saw 11\\nSkipping line 1617191: expected 10 fields, saw 11\\n'\n",
      "b'Skipping line 1669732: expected 10 fields, saw 11\\nSkipping line 1670065: expected 10 fields, saw 11\\nSkipping line 1694655: expected 10 fields, saw 12\\n'\n",
      "b'Skipping line 1771811: expected 10 fields, saw 11\\nSkipping line 1790431: expected 10 fields, saw 11\\nSkipping line 1816342: expected 10 fields, saw 11\\nSkipping line 1832298: expected 10 fields, saw 11\\n'\n",
      "b'Skipping line 1852579: expected 10 fields, saw 11\\nSkipping line 1868391: expected 10 fields, saw 11\\n'\n",
      "b'Skipping line 1906116: expected 10 fields, saw 11\\nSkipping line 1944736: expected 10 fields, saw 12\\n'\n",
      "b'Skipping line 1984312: expected 10 fields, saw 11\\nSkipping line 1985320: expected 10 fields, saw 11\\nSkipping line 2028522: expected 10 fields, saw 11\\n'\n",
      "b'Skipping line 2035512: expected 10 fields, saw 13\\nSkipping line 2039344: expected 10 fields, saw 11\\nSkipping line 2064861: expected 10 fields, saw 11\\nSkipping line 2066206: expected 10 fields, saw 11\\nSkipping line 2068587: expected 10 fields, saw 11\\nSkipping line 2069693: expected 10 fields, saw 11\\nSkipping line 2072438: expected 10 fields, saw 14\\n'\n",
      "b'Skipping line 2101815: expected 10 fields, saw 11\\nSkipping line 2105053: expected 10 fields, saw 11\\nSkipping line 2114492: expected 10 fields, saw 11\\nSkipping line 2142065: expected 10 fields, saw 11\\nSkipping line 2144034: expected 10 fields, saw 11\\nSkipping line 2148866: expected 10 fields, saw 11\\nSkipping line 2151017: expected 10 fields, saw 11\\n'\n",
      "b'Skipping line 2178771: expected 10 fields, saw 11\\nSkipping line 2213585: expected 10 fields, saw 11\\nSkipping line 2221020: expected 10 fields, saw 12\\nSkipping line 2223529: expected 10 fields, saw 11\\nSkipping line 2225196: expected 10 fields, saw 11\\n'\n",
      "b'Skipping line 2280839: expected 10 fields, saw 11\\nSkipping line 2283089: expected 10 fields, saw 11\\n'\n",
      "b'Skipping line 2299226: expected 10 fields, saw 11\\nSkipping line 2335200: expected 10 fields, saw 11\\nSkipping line 2347755: expected 10 fields, saw 11\\nSkipping line 2348496: expected 10 fields, saw 11\\nSkipping line 2352531: expected 10 fields, saw 11\\nSkipping line 2353039: expected 10 fields, saw 11\\n'\n",
      "b'Skipping line 2363803: expected 10 fields, saw 11\\nSkipping line 2394751: expected 10 fields, saw 11\\n'\n",
      "b'Skipping line 2441029: expected 10 fields, saw 11\\nSkipping line 2484013: expected 10 fields, saw 11\\nSkipping line 2486186: expected 10 fields, saw 11\\n'\n",
      "b'Skipping line 2494052: expected 10 fields, saw 11\\nSkipping line 2494525: expected 10 fields, saw 11\\n'\n",
      "b'Skipping line 2561490: expected 10 fields, saw 11\\nSkipping line 2592632: expected 10 fields, saw 12\\nSkipping line 2610510: expected 10 fields, saw 11\\nSkipping line 2619239: expected 10 fields, saw 11\\n'\n",
      "b'Skipping line 2669852: expected 10 fields, saw 11\\nSkipping line 2674859: expected 10 fields, saw 12\\nSkipping line 2685033: expected 10 fields, saw 11\\n'\n",
      "b'Skipping line 2713857: expected 10 fields, saw 11\\nSkipping line 2727811: expected 10 fields, saw 11\\nSkipping line 2734251: expected 10 fields, saw 11\\n'\n",
      "b'Skipping line 2789983: expected 10 fields, saw 11\\nSkipping line 2807105: expected 10 fields, saw 12\\n'\n",
      "b'Skipping line 2819069: expected 10 fields, saw 11\\nSkipping line 2845525: expected 10 fields, saw 11\\nSkipping line 2874899: expected 10 fields, saw 11\\n'\n",
      "b'Skipping line 2911849: expected 10 fields, saw 11\\nSkipping line 2937641: expected 10 fields, saw 12\\n'\n",
      "b'Skipping line 2976325: expected 10 fields, saw 11\\nSkipping line 2983311: expected 10 fields, saw 11\\nSkipping line 2984900: expected 10 fields, saw 11\\nSkipping line 3010517: expected 10 fields, saw 11\\n'\n",
      "b'Skipping line 3019837: expected 10 fields, saw 11\\nSkipping line 3065637: expected 10 fields, saw 11\\nSkipping line 3075947: expected 10 fields, saw 11\\n'\n",
      "b'Skipping line 3101586: expected 10 fields, saw 14\\nSkipping line 3117873: expected 10 fields, saw 11\\nSkipping line 3129749: expected 10 fields, saw 11\\nSkipping line 3140134: expected 10 fields, saw 11\\n'\n",
      "b'Skipping line 3179383: expected 10 fields, saw 11\\n'\n",
      "b'Skipping line 3228056: expected 10 fields, saw 14\\n'\n",
      "b'Skipping line 3281234: expected 10 fields, saw 11\\nSkipping line 3328738: expected 10 fields, saw 12\\nSkipping line 3335058: expected 10 fields, saw 11\\n'\n",
      "b'Skipping line 3385137: expected 10 fields, saw 11\\n'\n",
      "b'Skipping line 3445616: expected 10 fields, saw 11\\nSkipping line 3471881: expected 10 fields, saw 11\\nSkipping line 3473281: expected 10 fields, saw 11\\n'\n",
      "b'Skipping line 3497951: expected 10 fields, saw 14\\nSkipping line 3509346: expected 10 fields, saw 11\\n'\n",
      "b'Skipping line 3544025: expected 10 fields, saw 11\\nSkipping line 3551687: expected 10 fields, saw 11\\nSkipping line 3565048: expected 10 fields, saw 11\\n'\n",
      "b'Skipping line 3638671: expected 10 fields, saw 13\\nSkipping line 3667335: expected 10 fields, saw 11\\n'\n",
      "b'Skipping line 3784233: expected 10 fields, saw 12\\nSkipping line 3800953: expected 10 fields, saw 13\\n'\n",
      "b'Skipping line 3817633: expected 10 fields, saw 11\\nSkipping line 3850842: expected 10 fields, saw 11\\n'\n",
      "b'Skipping line 3897819: expected 10 fields, saw 11\\nSkipping line 3928500: expected 10 fields, saw 11\\nSkipping line 3929389: expected 10 fields, saw 12\\n'\n",
      "b'Skipping line 3966923: expected 10 fields, saw 11\\nSkipping line 3990557: expected 10 fields, saw 11\\n'\n",
      "b'Skipping line 4044499: expected 10 fields, saw 11\\n'\n",
      "b'Skipping line 4123538: expected 10 fields, saw 11\\nSkipping line 4125110: expected 10 fields, saw 12\\n'\n",
      "b'Skipping line 4130726: expected 10 fields, saw 11\\nSkipping line 4150113: expected 10 fields, saw 11\\n'\n",
      "b'Skipping line 4195622: expected 10 fields, saw 11\\nSkipping line 4252876: expected 10 fields, saw 11\\nSkipping line 4253705: expected 10 fields, saw 11\\n'\n",
      "b'Skipping line 4278566: expected 10 fields, saw 11\\nSkipping line 4307381: expected 10 fields, saw 11\\nSkipping line 4321394: expected 10 fields, saw 11\\nSkipping line 4324841: expected 10 fields, saw 14\\n'\n",
      "b'Skipping line 4369405: expected 10 fields, saw 11\\nSkipping line 4369864: expected 10 fields, saw 11\\nSkipping line 4372210: expected 10 fields, saw 12\\nSkipping line 4373468: expected 10 fields, saw 11\\n'\n",
      "b'Skipping line 4402626: expected 10 fields, saw 11\\nSkipping line 4409662: expected 10 fields, saw 11\\nSkipping line 4431209: expected 10 fields, saw 11\\nSkipping line 4436432: expected 10 fields, saw 11\\n'\n",
      "b'Skipping line 4498977: expected 10 fields, saw 11\\n'\n",
      "b'Skipping line 4532513: expected 10 fields, saw 11\\nSkipping line 4563833: expected 10 fields, saw 11\\nSkipping line 4566848: expected 10 fields, saw 11\\n'\n",
      "b'Skipping line 4592166: expected 10 fields, saw 12\\nSkipping line 4632344: expected 10 fields, saw 11\\n'\n",
      "b'Skipping line 4653856: expected 10 fields, saw 11\\nSkipping line 4698146: expected 10 fields, saw 11\\n'\n",
      "b'Skipping line 4768426: expected 10 fields, saw 11\\n'\n",
      "b'Skipping line 4850832: expected 10 fields, saw 11\\nSkipping line 4861140: expected 10 fields, saw 11\\n'\n",
      "b'Skipping line 4947688: expected 10 fields, saw 11\\nSkipping line 4971217: expected 10 fields, saw 11\\nSkipping line 4971843: expected 10 fields, saw 14\\nSkipping line 4979376: expected 10 fields, saw 11\\n'\n",
      "b'Skipping line 4981884: expected 10 fields, saw 14\\nSkipping line 4987373: expected 10 fields, saw 11\\nSkipping line 5010640: expected 10 fields, saw 11\\nSkipping line 5022758: expected 10 fields, saw 11\\nSkipping line 5039223: expected 10 fields, saw 11\\n'\n",
      "b'Skipping line 5101419: expected 10 fields, saw 12\\n'\n",
      "b'Skipping line 5114578: expected 10 fields, saw 11\\nSkipping line 5154390: expected 10 fields, saw 13\\nSkipping line 5176154: expected 10 fields, saw 11\\n'\n",
      "b'Skipping line 5182025: expected 10 fields, saw 11\\n'\n",
      "b'Skipping line 5263099: expected 10 fields, saw 13\\nSkipping line 5280400: expected 10 fields, saw 12\\nSkipping line 5289218: expected 10 fields, saw 11\\n'\n",
      "b'Skipping line 5315768: expected 10 fields, saw 11\\nSkipping line 5348710: expected 10 fields, saw 11\\n'\n",
      "b'Skipping line 5405221: expected 10 fields, saw 11\\n'\n",
      "b'Skipping line 5484605: expected 10 fields, saw 11\\nSkipping line 5485748: expected 10 fields, saw 11\\nSkipping line 5491728: expected 10 fields, saw 11\\nSkipping line 5499225: expected 10 fields, saw 11\\n'\n",
      "b'Skipping line 5520631: expected 10 fields, saw 12\\n'\n",
      "b'Skipping line 5621523: expected 10 fields, saw 11\\nSkipping line 5631387: expected 10 fields, saw 11\\n'\n",
      "b'Skipping line 5677817: expected 10 fields, saw 11\\nSkipping line 5683465: expected 10 fields, saw 11\\n'\n",
      "b'Skipping line 5737357: expected 10 fields, saw 11\\n'\n",
      "b'Skipping line 5789101: expected 10 fields, saw 11\\n'\n",
      "b'Skipping line 5840318: expected 10 fields, saw 12\\n'\n",
      "b'Skipping line 5929737: expected 10 fields, saw 11\\n'\n",
      "b'Skipping line 5965935: expected 10 fields, saw 11\\nSkipping line 5976006: expected 10 fields, saw 11\\nSkipping line 5980751: expected 10 fields, saw 11\\nSkipping line 5995236: expected 10 fields, saw 11\\n'\n",
      "b'Skipping line 6036717: expected 10 fields, saw 11\\nSkipping line 6038766: expected 10 fields, saw 11\\nSkipping line 6048271: expected 10 fields, saw 11\\nSkipping line 6081112: expected 10 fields, saw 11\\nSkipping line 6089903: expected 10 fields, saw 11\\n'\n",
      "b'Skipping line 6123398: expected 10 fields, saw 11\\n'\n",
      "b'Skipping line 6162416: expected 10 fields, saw 14\\nSkipping line 6177208: expected 10 fields, saw 11\\n'\n",
      "b'Skipping line 6267313: expected 10 fields, saw 11\\nSkipping line 6285138: expected 10 fields, saw 11\\n'\n",
      "b'Skipping line 6297633: expected 10 fields, saw 11\\nSkipping line 6318698: expected 10 fields, saw 11\\n'\n",
      "b'Skipping line 6360337: expected 10 fields, saw 11\\nSkipping line 6401172: expected 10 fields, saw 11\\n'\n",
      "b'Skipping line 6443178: expected 10 fields, saw 11\\nSkipping line 6452526: expected 10 fields, saw 11\\nSkipping line 6469058: expected 10 fields, saw 11\\n'\n",
      "b'Skipping line 6495208: expected 10 fields, saw 11\\nSkipping line 6505010: expected 10 fields, saw 11\\nSkipping line 6525664: expected 10 fields, saw 11\\nSkipping line 6530318: expected 10 fields, saw 11\\n'\n",
      "b'Skipping line 6559432: expected 10 fields, saw 11\\nSkipping line 6560525: expected 10 fields, saw 11\\nSkipping line 6570703: expected 10 fields, saw 14\\nSkipping line 6595308: expected 10 fields, saw 11\\nSkipping line 6598489: expected 10 fields, saw 11\\nSkipping line 6615657: expected 10 fields, saw 11\\n'\n",
      "b'Skipping line 6634975: expected 10 fields, saw 11\\n'\n",
      "b'Skipping line 6784684: expected 10 fields, saw 11\\n'\n",
      "b'Skipping line 6858343: expected 10 fields, saw 13\\n'\n",
      "b'Skipping line 6890839: expected 10 fields, saw 11\\n'\n",
      "b'Skipping line 6953577: expected 10 fields, saw 11\\nSkipping line 6953810: expected 10 fields, saw 11\\nSkipping line 6963820: expected 10 fields, saw 11\\nSkipping line 6973587: expected 10 fields, saw 11\\n'\n",
      "b'Skipping line 7019574: expected 10 fields, saw 11\\nSkipping line 7046164: expected 10 fields, saw 12\\n'\n",
      "b'Skipping line 7080661: expected 10 fields, saw 11\\nSkipping line 7092750: expected 10 fields, saw 11\\nSkipping line 7093478: expected 10 fields, saw 11\\nSkipping line 7130228: expected 10 fields, saw 11\\nSkipping line 7134584: expected 10 fields, saw 11\\nSkipping line 7141938: expected 10 fields, saw 12\\n'\n",
      "b'Skipping line 7155678: expected 10 fields, saw 11\\nSkipping line 7206806: expected 10 fields, saw 11\\n'\n",
      "b'Skipping line 7275714: expected 10 fields, saw 11\\nSkipping line 7304691: expected 10 fields, saw 11\\nSkipping line 7312833: expected 10 fields, saw 11\\n'\n",
      "b'Skipping line 7342333: expected 10 fields, saw 12\\nSkipping line 7363810: expected 10 fields, saw 11\\nSkipping line 7374833: expected 10 fields, saw 11\\n'\n",
      "b'Skipping line 7410945: expected 10 fields, saw 11\\nSkipping line 7418159: expected 10 fields, saw 11\\nSkipping line 7421807: expected 10 fields, saw 11\\nSkipping line 7463572: expected 10 fields, saw 11\\n'\n",
      "b'Skipping line 7496741: expected 10 fields, saw 11\\nSkipping line 7513294: expected 10 fields, saw 11\\n'\n",
      "b'Skipping line 7551649: expected 10 fields, saw 11\\nSkipping line 7577410: expected 10 fields, saw 11\\nSkipping line 7595719: expected 10 fields, saw 11\\n'\n",
      "b'Skipping line 7635498: expected 10 fields, saw 11\\nSkipping line 7654030: expected 10 fields, saw 11\\n'\n",
      "b'Skipping line 7681532: expected 10 fields, saw 11\\nSkipping line 7689519: expected 10 fields, saw 12\\nSkipping line 7701751: expected 10 fields, saw 11\\nSkipping line 7703222: expected 10 fields, saw 11\\nSkipping line 7728443: expected 10 fields, saw 11\\n'\n",
      "b'Skipping line 7737066: expected 10 fields, saw 11\\nSkipping line 7769562: expected 10 fields, saw 11\\nSkipping line 7794243: expected 10 fields, saw 11\\n'\n",
      "b'Skipping line 7811460: expected 10 fields, saw 11\\nSkipping line 7816153: expected 10 fields, saw 11\\nSkipping line 7823528: expected 10 fields, saw 14\\nSkipping line 7831021: expected 10 fields, saw 12\\nSkipping line 7844957: expected 10 fields, saw 11\\nSkipping line 7852713: expected 10 fields, saw 11\\n'\n",
      "b'Skipping line 7920041: expected 10 fields, saw 11\\nSkipping line 7925093: expected 10 fields, saw 11\\n'\n",
      "b'Skipping line 7958408: expected 10 fields, saw 11\\nSkipping line 7980958: expected 10 fields, saw 11\\n'\n",
      "b'Skipping line 8025116: expected 10 fields, saw 12\\nSkipping line 8039306: expected 10 fields, saw 11\\nSkipping line 8049023: expected 10 fields, saw 11\\nSkipping line 8050424: expected 10 fields, saw 11\\nSkipping line 8059641: expected 10 fields, saw 11\\n'\n",
      "b'Skipping line 8066424: expected 10 fields, saw 11\\n'\n",
      "b'Skipping line 8171601: expected 10 fields, saw 11\\n'\n",
      "b'Skipping line 8195040: expected 10 fields, saw 11\\n'\n",
      "b'Skipping line 8313594: expected 10 fields, saw 12\\n'\n",
      "b'Skipping line 8327193: expected 10 fields, saw 12\\nSkipping line 8352217: expected 10 fields, saw 11\\nSkipping line 8352903: expected 10 fields, saw 12\\n'\n",
      "b'Skipping line 8406215: expected 10 fields, saw 11\\nSkipping line 8417497: expected 10 fields, saw 11\\n'\n",
      "b'Skipping line 8481106: expected 10 fields, saw 11\\nSkipping line 8488175: expected 10 fields, saw 11\\n'\n",
      "b'Skipping line 8521743: expected 10 fields, saw 11\\nSkipping line 8526450: expected 10 fields, saw 11\\nSkipping line 8547718: expected 10 fields, saw 11\\nSkipping line 8559595: expected 10 fields, saw 11\\n'\n",
      "b'Skipping line 8587944: expected 10 fields, saw 11\\nSkipping line 8615497: expected 10 fields, saw 11\\nSkipping line 8627035: expected 10 fields, saw 11\\n'\n",
      "b'Skipping line 8665842: expected 10 fields, saw 11\\nSkipping line 8670813: expected 10 fields, saw 12\\nSkipping line 8676130: expected 10 fields, saw 11\\nSkipping line 8683531: expected 10 fields, saw 12\\n'\n",
      "b'Skipping line 8732873: expected 10 fields, saw 11\\nSkipping line 8735433: expected 10 fields, saw 11\\nSkipping line 8739016: expected 10 fields, saw 11\\nSkipping line 8768816: expected 10 fields, saw 12\\n'\n",
      "b'Skipping line 8794849: expected 10 fields, saw 11\\nSkipping line 8808199: expected 10 fields, saw 12\\nSkipping line 8808635: expected 10 fields, saw 11\\n'\n",
      "b'Skipping line 8868241: expected 10 fields, saw 11\\nSkipping line 8891443: expected 10 fields, saw 11\\nSkipping line 8894310: expected 10 fields, saw 11\\nSkipping line 8904236: expected 10 fields, saw 11\\n'\n",
      "b'Skipping line 8973593: expected 10 fields, saw 13\\n'\n",
      "b'Skipping line 9035018: expected 10 fields, saw 11\\nSkipping line 9042999: expected 10 fields, saw 12\\n'\n",
      "b'Skipping line 9057528: expected 10 fields, saw 11\\nSkipping line 9069656: expected 10 fields, saw 12\\nSkipping line 9073097: expected 10 fields, saw 13\\n'\n",
      "b'Skipping line 9133268: expected 10 fields, saw 11\\n'\n",
      "b'Skipping line 9223801: expected 10 fields, saw 11\\n'\n",
      "b'Skipping line 9285800: expected 10 fields, saw 11\\n'\n",
      "b'Skipping line 9307248: expected 10 fields, saw 11\\nSkipping line 9314956: expected 10 fields, saw 11\\nSkipping line 9371662: expected 10 fields, saw 11\\n'\n",
      "b'Skipping line 9508621: expected 10 fields, saw 11\\nSkipping line 9540192: expected 10 fields, saw 11\\nSkipping line 9557205: expected 10 fields, saw 11\\nSkipping line 9558587: expected 10 fields, saw 11\\n'\n",
      "b'Skipping line 9576008: expected 10 fields, saw 11\\nSkipping line 9619468: expected 10 fields, saw 11\\n'\n",
      "b'Skipping line 9636928: expected 10 fields, saw 11\\nSkipping line 9647018: expected 10 fields, saw 11\\nSkipping line 9662507: expected 10 fields, saw 11\\nSkipping line 9664361: expected 10 fields, saw 11\\nSkipping line 9699095: expected 10 fields, saw 12\\n'\n",
      "b'Skipping line 9777325: expected 10 fields, saw 11\\nSkipping line 9783432: expected 10 fields, saw 11\\n'\n",
      "C:\\Users\\User\\anaconda3\\lib\\site-packages\\IPython\\core\\interactiveshell.py:3063: DtypeWarning: Columns (9) have mixed types.Specify dtype option on import or set low_memory=False.\n",
      "  interactivity=interactivity, compiler=compiler, result=result)\n"
     ]
    }
   ],
   "source": [
    "df = pd.read_csv('./free_company_dataset.csv', error_bad_lines=False)"
   ]
  },
  {
   "cell_type": "code",
   "execution_count": 3,
   "metadata": {},
   "outputs": [
    {
     "data": {
      "text/html": [
       "<div>\n",
       "<style scoped>\n",
       "    .dataframe tbody tr th:only-of-type {\n",
       "        vertical-align: middle;\n",
       "    }\n",
       "\n",
       "    .dataframe tbody tr th {\n",
       "        vertical-align: top;\n",
       "    }\n",
       "\n",
       "    .dataframe thead th {\n",
       "        text-align: right;\n",
       "    }\n",
       "</style>\n",
       "<table border=\"1\" class=\"dataframe\">\n",
       "  <thead>\n",
       "    <tr style=\"text-align: right;\">\n",
       "      <th></th>\n",
       "      <th>country</th>\n",
       "      <th>founded</th>\n",
       "      <th>id</th>\n",
       "      <th>industry</th>\n",
       "      <th>linkedin_url</th>\n",
       "      <th>locality</th>\n",
       "      <th>name</th>\n",
       "      <th>region</th>\n",
       "      <th>size</th>\n",
       "      <th>website</th>\n",
       "    </tr>\n",
       "  </thead>\n",
       "  <tbody>\n",
       "    <tr>\n",
       "      <th>0</th>\n",
       "      <td>united kingdom</td>\n",
       "      <td>2017.0</td>\n",
       "      <td>codingcodex</td>\n",
       "      <td>education management</td>\n",
       "      <td>linkedin.com/company/codingcodex</td>\n",
       "      <td>nottingham</td>\n",
       "      <td>codex</td>\n",
       "      <td>nottingham</td>\n",
       "      <td>11-50</td>\n",
       "      <td>codingwithcodex.co.uk</td>\n",
       "    </tr>\n",
       "    <tr>\n",
       "      <th>1</th>\n",
       "      <td>italy</td>\n",
       "      <td>2016.0</td>\n",
       "      <td>rid968fm</td>\n",
       "      <td>broadcast media</td>\n",
       "      <td>linkedin.com/company/rid968fm</td>\n",
       "      <td>rome</td>\n",
       "      <td>rid 96.8 fm</td>\n",
       "      <td>lazio</td>\n",
       "      <td>1-10</td>\n",
       "      <td>rid968.com</td>\n",
       "    </tr>\n",
       "    <tr>\n",
       "      <th>2</th>\n",
       "      <td>costa rica</td>\n",
       "      <td>NaN</td>\n",
       "      <td>eclipse-in-action</td>\n",
       "      <td>consumer services</td>\n",
       "      <td>linkedin.com/company/eclipse-in-action</td>\n",
       "      <td>san josé</td>\n",
       "      <td>eclipse in action</td>\n",
       "      <td>san jose</td>\n",
       "      <td>201-500</td>\n",
       "      <td>supportseven.com</td>\n",
       "    </tr>\n",
       "    <tr>\n",
       "      <th>3</th>\n",
       "      <td>turkey</td>\n",
       "      <td>2008.0</td>\n",
       "      <td>pergel-digital-media</td>\n",
       "      <td>internet</td>\n",
       "      <td>linkedin.com/company/pergel-digital-media</td>\n",
       "      <td>NaN</td>\n",
       "      <td>pergel digital media</td>\n",
       "      <td>NaN</td>\n",
       "      <td>1-10</td>\n",
       "      <td>pergeldigital.com</td>\n",
       "    </tr>\n",
       "    <tr>\n",
       "      <th>4</th>\n",
       "      <td>united states</td>\n",
       "      <td>2007.0</td>\n",
       "      <td>cougar-electric-llc</td>\n",
       "      <td>construction</td>\n",
       "      <td>linkedin.com/company/cougar-electric-llc</td>\n",
       "      <td>swartz creek</td>\n",
       "      <td>cougar electric llc</td>\n",
       "      <td>michigan</td>\n",
       "      <td>1-10</td>\n",
       "      <td>power-now.biz</td>\n",
       "    </tr>\n",
       "  </tbody>\n",
       "</table>\n",
       "</div>"
      ],
      "text/plain": [
       "          country  founded                    id              industry  \\\n",
       "0  united kingdom   2017.0           codingcodex  education management   \n",
       "1           italy   2016.0              rid968fm       broadcast media   \n",
       "2      costa rica      NaN     eclipse-in-action     consumer services   \n",
       "3          turkey   2008.0  pergel-digital-media              internet   \n",
       "4   united states   2007.0   cougar-electric-llc          construction   \n",
       "\n",
       "                                linkedin_url      locality  \\\n",
       "0           linkedin.com/company/codingcodex    nottingham   \n",
       "1              linkedin.com/company/rid968fm          rome   \n",
       "2     linkedin.com/company/eclipse-in-action      san josé   \n",
       "3  linkedin.com/company/pergel-digital-media           NaN   \n",
       "4   linkedin.com/company/cougar-electric-llc  swartz creek   \n",
       "\n",
       "                   name      region     size                website  \n",
       "0                 codex  nottingham    11-50  codingwithcodex.co.uk  \n",
       "1           rid 96.8 fm       lazio     1-10             rid968.com  \n",
       "2     eclipse in action    san jose  201-500       supportseven.com  \n",
       "3  pergel digital media         NaN     1-10      pergeldigital.com  \n",
       "4   cougar electric llc    michigan     1-10          power-now.biz  "
      ]
     },
     "execution_count": 3,
     "metadata": {},
     "output_type": "execute_result"
    }
   ],
   "source": [
    "df.head()"
   ]
  },
  {
   "cell_type": "code",
   "execution_count": 4,
   "metadata": {},
   "outputs": [
    {
     "data": {
      "text/plain": [
       "(249, 90979, 4443)"
      ]
     },
     "execution_count": 4,
     "metadata": {},
     "output_type": "execute_result"
    }
   ],
   "source": [
    "df.country.nunique(), df.locality.nunique(), df.region.nunique()"
   ]
  },
  {
   "cell_type": "code",
   "execution_count": 5,
   "metadata": {},
   "outputs": [
    {
     "data": {
      "text/plain": [
       "country         16.297923\n",
       "founded         50.180549\n",
       "id               0.000010\n",
       "industry         9.042004\n",
       "linkedin_url     0.000000\n",
       "locality        33.002053\n",
       "name             0.748760\n",
       "region          28.927910\n",
       "size             0.000000\n",
       "website         24.894256\n",
       "dtype: float64"
      ]
     },
     "execution_count": 5,
     "metadata": {},
     "output_type": "execute_result"
    }
   ],
   "source": [
    "df.isna().sum()/df.shape[0]*100"
   ]
  },
  {
   "cell_type": "code",
   "execution_count": 6,
   "metadata": {},
   "outputs": [
    {
     "name": "stdout",
     "output_type": "stream",
     "text": [
      "249\n"
     ]
    },
    {
     "data": {
      "text/html": [
       "<div>\n",
       "<style scoped>\n",
       "    .dataframe tbody tr th:only-of-type {\n",
       "        vertical-align: middle;\n",
       "    }\n",
       "\n",
       "    .dataframe tbody tr th {\n",
       "        vertical-align: top;\n",
       "    }\n",
       "\n",
       "    .dataframe thead th {\n",
       "        text-align: right;\n",
       "    }\n",
       "</style>\n",
       "<table border=\"1\" class=\"dataframe\">\n",
       "  <thead>\n",
       "    <tr style=\"text-align: right;\">\n",
       "      <th></th>\n",
       "      <th>n_companies</th>\n",
       "      <th>n_websites</th>\n",
       "    </tr>\n",
       "    <tr>\n",
       "      <th>country</th>\n",
       "      <th></th>\n",
       "      <th></th>\n",
       "    </tr>\n",
       "  </thead>\n",
       "  <tbody>\n",
       "    <tr>\n",
       "      <th>united states</th>\n",
       "      <td>3213829</td>\n",
       "      <td>2396446</td>\n",
       "    </tr>\n",
       "    <tr>\n",
       "      <th>united kingdom</th>\n",
       "      <td>935786</td>\n",
       "      <td>635134</td>\n",
       "    </tr>\n",
       "    <tr>\n",
       "      <th>india</th>\n",
       "      <td>396714</td>\n",
       "      <td>288193</td>\n",
       "    </tr>\n",
       "    <tr>\n",
       "      <th>brazil</th>\n",
       "      <td>308647</td>\n",
       "      <td>249234</td>\n",
       "    </tr>\n",
       "    <tr>\n",
       "      <th>france</th>\n",
       "      <td>278142</td>\n",
       "      <td>173166</td>\n",
       "    </tr>\n",
       "    <tr>\n",
       "      <th>canada</th>\n",
       "      <td>267602</td>\n",
       "      <td>228169</td>\n",
       "    </tr>\n",
       "    <tr>\n",
       "      <th>australia</th>\n",
       "      <td>262869</td>\n",
       "      <td>233152</td>\n",
       "    </tr>\n",
       "    <tr>\n",
       "      <th>netherlands</th>\n",
       "      <td>247567</td>\n",
       "      <td>214751</td>\n",
       "    </tr>\n",
       "    <tr>\n",
       "      <th>germany</th>\n",
       "      <td>234000</td>\n",
       "      <td>210501</td>\n",
       "    </tr>\n",
       "    <tr>\n",
       "      <th>spain</th>\n",
       "      <td>232876</td>\n",
       "      <td>180554</td>\n",
       "    </tr>\n",
       "  </tbody>\n",
       "</table>\n",
       "</div>"
      ],
      "text/plain": [
       "                n_companies  n_websites\n",
       "country                                \n",
       "united states       3213829     2396446\n",
       "united kingdom       935786      635134\n",
       "india                396714      288193\n",
       "brazil               308647      249234\n",
       "france               278142      173166\n",
       "canada               267602      228169\n",
       "australia            262869      233152\n",
       "netherlands          247567      214751\n",
       "germany              234000      210501\n",
       "spain                232876      180554"
      ]
     },
     "execution_count": 6,
     "metadata": {},
     "output_type": "execute_result"
    }
   ],
   "source": [
    "#print(df.country.nunique())\n",
    "country_df = df.groupby('country').count().sort_values('id', ascending=False)[['id', 'website']]\n",
    "country_df.columns = ['n_companies', 'n_websites']\n",
    "print(country_df.shape[0])\n",
    "country_df.head(10)"
   ]
  },
  {
   "cell_type": "code",
   "execution_count": 7,
   "metadata": {},
   "outputs": [
    {
     "name": "stdout",
     "output_type": "stream",
     "text": [
      "147\n"
     ]
    },
    {
     "data": {
      "text/html": [
       "<div>\n",
       "<style scoped>\n",
       "    .dataframe tbody tr th:only-of-type {\n",
       "        vertical-align: middle;\n",
       "    }\n",
       "\n",
       "    .dataframe tbody tr th {\n",
       "        vertical-align: top;\n",
       "    }\n",
       "\n",
       "    .dataframe thead th {\n",
       "        text-align: right;\n",
       "    }\n",
       "</style>\n",
       "<table border=\"1\" class=\"dataframe\">\n",
       "  <thead>\n",
       "    <tr style=\"text-align: right;\">\n",
       "      <th></th>\n",
       "      <th>n_companies</th>\n",
       "      <th>n_websites</th>\n",
       "    </tr>\n",
       "    <tr>\n",
       "      <th>industry</th>\n",
       "      <th></th>\n",
       "      <th></th>\n",
       "    </tr>\n",
       "  </thead>\n",
       "  <tbody>\n",
       "    <tr>\n",
       "      <th>information technology and services</th>\n",
       "      <td>534903</td>\n",
       "      <td>451873</td>\n",
       "    </tr>\n",
       "    <tr>\n",
       "      <th>construction</th>\n",
       "      <td>427072</td>\n",
       "      <td>305335</td>\n",
       "    </tr>\n",
       "    <tr>\n",
       "      <th>marketing and advertising</th>\n",
       "      <td>385629</td>\n",
       "      <td>335856</td>\n",
       "    </tr>\n",
       "    <tr>\n",
       "      <th>real estate</th>\n",
       "      <td>274137</td>\n",
       "      <td>204571</td>\n",
       "    </tr>\n",
       "    <tr>\n",
       "      <th>management consulting</th>\n",
       "      <td>242218</td>\n",
       "      <td>194122</td>\n",
       "    </tr>\n",
       "    <tr>\n",
       "      <th>computer software</th>\n",
       "      <td>225451</td>\n",
       "      <td>179958</td>\n",
       "    </tr>\n",
       "    <tr>\n",
       "      <th>financial services</th>\n",
       "      <td>214856</td>\n",
       "      <td>167027</td>\n",
       "    </tr>\n",
       "    <tr>\n",
       "      <th>retail</th>\n",
       "      <td>201062</td>\n",
       "      <td>146664</td>\n",
       "    </tr>\n",
       "    <tr>\n",
       "      <th>health, wellness and fitness</th>\n",
       "      <td>196334</td>\n",
       "      <td>163582</td>\n",
       "    </tr>\n",
       "    <tr>\n",
       "      <th>hospital &amp; health care</th>\n",
       "      <td>191293</td>\n",
       "      <td>128874</td>\n",
       "    </tr>\n",
       "    <tr>\n",
       "      <th>education management</th>\n",
       "      <td>170453</td>\n",
       "      <td>125103</td>\n",
       "    </tr>\n",
       "    <tr>\n",
       "      <th>internet</th>\n",
       "      <td>169436</td>\n",
       "      <td>147943</td>\n",
       "    </tr>\n",
       "    <tr>\n",
       "      <th>automotive</th>\n",
       "      <td>149395</td>\n",
       "      <td>113839</td>\n",
       "    </tr>\n",
       "    <tr>\n",
       "      <th>non-profit organization management</th>\n",
       "      <td>135733</td>\n",
       "      <td>110803</td>\n",
       "    </tr>\n",
       "    <tr>\n",
       "      <th>hospitality</th>\n",
       "      <td>134868</td>\n",
       "      <td>101701</td>\n",
       "    </tr>\n",
       "    <tr>\n",
       "      <th>design</th>\n",
       "      <td>132484</td>\n",
       "      <td>113948</td>\n",
       "    </tr>\n",
       "    <tr>\n",
       "      <th>food &amp; beverages</th>\n",
       "      <td>126918</td>\n",
       "      <td>99342</td>\n",
       "    </tr>\n",
       "    <tr>\n",
       "      <th>accounting</th>\n",
       "      <td>114134</td>\n",
       "      <td>83930</td>\n",
       "    </tr>\n",
       "    <tr>\n",
       "      <th>mechanical or industrial engineering</th>\n",
       "      <td>109799</td>\n",
       "      <td>86208</td>\n",
       "    </tr>\n",
       "    <tr>\n",
       "      <th>electrical/electronic manufacturing</th>\n",
       "      <td>108647</td>\n",
       "      <td>73647</td>\n",
       "    </tr>\n",
       "  </tbody>\n",
       "</table>\n",
       "</div>"
      ],
      "text/plain": [
       "                                      n_companies  n_websites\n",
       "industry                                                     \n",
       "information technology and services        534903      451873\n",
       "construction                               427072      305335\n",
       "marketing and advertising                  385629      335856\n",
       "real estate                                274137      204571\n",
       "management consulting                      242218      194122\n",
       "computer software                          225451      179958\n",
       "financial services                         214856      167027\n",
       "retail                                     201062      146664\n",
       "health, wellness and fitness               196334      163582\n",
       "hospital & health care                     191293      128874\n",
       "education management                       170453      125103\n",
       "internet                                   169436      147943\n",
       "automotive                                 149395      113839\n",
       "non-profit organization management         135733      110803\n",
       "hospitality                                134868      101701\n",
       "design                                     132484      113948\n",
       "food & beverages                           126918       99342\n",
       "accounting                                 114134       83930\n",
       "mechanical or industrial engineering       109799       86208\n",
       "electrical/electronic manufacturing        108647       73647"
      ]
     },
     "execution_count": 7,
     "metadata": {},
     "output_type": "execute_result"
    }
   ],
   "source": [
    "industry_df = df.groupby('industry').count().sort_values('id', ascending=False)[['id', 'website']]\n",
    "industry_df.columns = ['n_companies', 'n_websites']\n",
    "print(industry_df.shape[0])\n",
    "industry_df.head(20)"
   ]
  },
  {
   "cell_type": "code",
   "execution_count": 11,
   "metadata": {},
   "outputs": [
    {
     "data": {
      "text/plain": [
       "(2802311, 11)"
      ]
     },
     "execution_count": 11,
     "metadata": {},
     "output_type": "execute_result"
    }
   ],
   "source": [
    "df['english'] = df.country.map(lambda x: x in ['united states', 'united kingdom', 'australia', 'canada'])\n",
    "clean_df = df[(~df.website.isna()) & df.english & (~df.industry.isna())& (~df.locality.isna())& (~df.region.isna())]\n",
    "clean_df.to_csv('free_company_dataset_clean.csv')\n",
    "clean_df.shape"
   ]
  },
  {
   "cell_type": "code",
   "execution_count": 15,
   "metadata": {},
   "outputs": [
    {
     "name": "stdout",
     "output_type": "stream",
     "text": [
      "Wall time: 4min 12s\n"
     ]
    }
   ],
   "source": [
    "%%time\n",
    "def tag_visible(element):\n",
    "    if element.parent.name in ['style', 'script', 'head', 'title', 'meta', '[document]']:\n",
    "        return False\n",
    "    if isinstance(element, Comment):\n",
    "        return False\n",
    "    return True\n",
    "\n",
    "\n",
    "def text_from_html(body):\n",
    "    soup = BeautifulSoup(body, 'html.parser')\n",
    "    texts = soup.findAll(text=True)\n",
    "    visible_texts = filter(tag_visible, texts)  \n",
    "    return u\" \".join(t.strip() for t in visible_texts)\n",
    "\n",
    "\n",
    "def parse_websites(values):\n",
    "    dirty_texts = {}\n",
    "    clean_texts = {}\n",
    "    for website, id_ in values:\n",
    "        try:\n",
    "            response = requests.get('https://{}/'.format(website), allow_redirects=False)\n",
    "            mystr = response.content\n",
    "            dirty_texts[id_] = mystr\n",
    "            clean_texts[id_] = text_from_html(mystr)\n",
    "        except requests.ConnectionError as e:\n",
    "            continue\n",
    "        except requests.TooManyRedirects as e:\n",
    "            continue\n",
    "    return dirty_texts, clean_texts\n",
    "\n",
    "r = parse_websites(clean_df[['website', 'id']].values[:100])"
   ]
  },
  {
   "cell_type": "code",
   "execution_count": 28,
   "metadata": {},
   "outputs": [],
   "source": [
    "import json\n",
    "import nltk\n",
    "from bs4 import BeautifulSoup\n",
    "import re\n",
    "import seaborn as sns"
   ]
  },
  {
   "cell_type": "code",
   "execution_count": 23,
   "metadata": {},
   "outputs": [],
   "source": []
  },
  {
   "cell_type": "code",
   "execution_count": 22,
   "metadata": {},
   "outputs": [
    {
     "data": {
      "text/plain": [
       "'Home About Our Team Careers Services Civil Design Case Study: Distribution Center Case Study: Big Box Retail Site Design Case Study: Market Grocery Site Design Land Planning Case Study: Camp Jackson Case Study: Crossroads Regional Park Case Study: Whispering Woods Surveying Drone Services Forensic Engineering Case Study: Expansive Clay Mitigation Case Study: Retaining Wall Failure Case Study: Storm Sewer Collapse Environmental Case Study: Creek Relocation Case Study: Membership Wholesale Club Case Study: Wetlands Mitigation Landscape Architecture Case Study: Brighton Ball Field Case Study: Park of Dreams Case Study: Webb F. Banks Passive Park Clients Contact \\xa0(901) 384-0404 CIVIL DESIGNLAND PLANNINGSURVEYINGDRONE SERVICESFORENSIC ENGINEERINGENVIRONMENTALLANDSCAPE ARCHITECTURE Carlson Consulting Engineers, Inc. Welcome to Carlson Consulting Engineers. We are leaders in civil engineering, planning, design and development for both large and small clients. Founded in 1995, our firm has successfully managed and executed residential, industrial and commercial projects in over 30 states. Our team achieves excellence through unparalleled service, experience and value. And we provide competitive advantage for our clients through strategic, timely and cost-effective solutions from project concept to completion. Talk to our team about making your vision a reality. Civil Design Land Planning Surveying Drone Services Forensic Engineering Environmental Landscape Architecture 7068 Ledgestone Commons, Bartlett, TN 38133 Phone: \\xa0 (901) 384-0404 Carlson Consulting Engineers 2017. All Rights Reserved. We are Carlson Consulting Engineers. Our mission is to innovate complete construction solutions that help our clients meet their goals. Links Home About Our Team Careers Services Clients Contact'"
      ]
     },
     "execution_count": 22,
     "metadata": {},
     "output_type": "execute_result"
    }
   ],
   "source": [
    "clean_text.strip()"
   ]
  },
  {
   "cell_type": "code",
   "execution_count": 37,
   "metadata": {},
   "outputs": [
    {
     "data": {
      "text/plain": [
       "3063"
      ]
     },
     "execution_count": 37,
     "metadata": {},
     "output_type": "execute_result"
    }
   ],
   "source": [
    "with open('./Lab/200_companies.json', 'r') as f:\n",
    "    a = json.load(f)\n",
    "len(a)"
   ]
  },
  {
   "cell_type": "code",
   "execution_count": 31,
   "metadata": {},
   "outputs": [],
   "source": [
    "clean_texts = []\n",
    "for d in a:\n",
    "    soup = BeautifulSoup(d['text'], 'html.parser')\n",
    "    clean_text = re.sub(' +', ' ',soup.get_text().replace('\\n', ' ')).strip().split(' ')\n",
    "    clean_texts.append(clean_text)"
   ]
  },
  {
   "cell_type": "code",
   "execution_count": 38,
   "metadata": {},
   "outputs": [
    {
     "data": {
      "text/plain": [
       "(3063, 2921, 2553)"
      ]
     },
     "execution_count": 38,
     "metadata": {},
     "output_type": "execute_result"
    }
   ],
   "source": [
    "lengths = [len(x['text']) for x in a]\n",
    "sum([x > 50 for x in lengths]), sum([x > 100 for x in lengths]), sum([x > 200 for x in lengths]), "
   ]
  },
  {
   "cell_type": "code",
   "execution_count": 40,
   "metadata": {},
   "outputs": [
    {
     "data": {
      "text/html": [
       "<div>\n",
       "<style scoped>\n",
       "    .dataframe tbody tr th:only-of-type {\n",
       "        vertical-align: middle;\n",
       "    }\n",
       "\n",
       "    .dataframe tbody tr th {\n",
       "        vertical-align: top;\n",
       "    }\n",
       "\n",
       "    .dataframe thead th {\n",
       "        text-align: right;\n",
       "    }\n",
       "</style>\n",
       "<table border=\"1\" class=\"dataframe\">\n",
       "  <thead>\n",
       "    <tr style=\"text-align: right;\">\n",
       "      <th></th>\n",
       "      <th>website</th>\n",
       "    </tr>\n",
       "  </thead>\n",
       "  <tbody>\n",
       "    <tr>\n",
       "      <th>0</th>\n",
       "      <td>codingwithcodex.co.uk</td>\n",
       "    </tr>\n",
       "    <tr>\n",
       "      <th>1</th>\n",
       "      <td>power-now.biz</td>\n",
       "    </tr>\n",
       "    <tr>\n",
       "      <th>2</th>\n",
       "      <td>miracledoors.com</td>\n",
       "    </tr>\n",
       "    <tr>\n",
       "      <th>3</th>\n",
       "      <td>carlsonconsulting.net</td>\n",
       "    </tr>\n",
       "    <tr>\n",
       "      <th>4</th>\n",
       "      <td>beaconmarketinggroupinc.com</td>\n",
       "    </tr>\n",
       "  </tbody>\n",
       "</table>\n",
       "</div>"
      ],
      "text/plain": [
       "                       website\n",
       "0        codingwithcodex.co.uk\n",
       "1                power-now.biz\n",
       "2             miracledoors.com\n",
       "3        carlsonconsulting.net\n",
       "4  beaconmarketinggroupinc.com"
      ]
     },
     "execution_count": 40,
     "metadata": {},
     "output_type": "execute_result"
    }
   ],
   "source": [
    "targets = pd.read_csv('./Lab/to_parse.csv')[['website']]\n",
    "targets.head()"
   ]
  },
  {
   "cell_type": "code",
   "execution_count": 45,
   "metadata": {},
   "outputs": [],
   "source": [
    "from math import ceil\n",
    "CHUNK_SIZE = 200000\n",
    "n_chunks = ceil(len(targets)/CHUNK_SIZE)\n",
    "for i in range(n_chunks):\n",
    "    targets.iloc[i*CHUNK_SIZE:(i+1)*CHUNK_SIZE].to_csv('./Lab/targets/{:2f}.csv'.format(i), index=False)"
   ]
  },
  {
   "cell_type": "code",
   "execution_count": 47,
   "metadata": {},
   "outputs": [
    {
     "data": {
      "text/plain": [
       "'./Lab/targets/ 1.csv'"
      ]
     },
     "execution_count": 47,
     "metadata": {},
     "output_type": "execute_result"
    }
   ],
   "source": [
    "'./Lab/targets/{:2d}.csv'.format(1)"
   ]
  },
  {
   "cell_type": "code",
   "execution_count": 44,
   "metadata": {},
   "outputs": [
    {
     "data": {
      "text/html": [
       "<div>\n",
       "<style scoped>\n",
       "    .dataframe tbody tr th:only-of-type {\n",
       "        vertical-align: middle;\n",
       "    }\n",
       "\n",
       "    .dataframe tbody tr th {\n",
       "        vertical-align: top;\n",
       "    }\n",
       "\n",
       "    .dataframe thead th {\n",
       "        text-align: right;\n",
       "    }\n",
       "</style>\n",
       "<table border=\"1\" class=\"dataframe\">\n",
       "  <thead>\n",
       "    <tr style=\"text-align: right;\">\n",
       "      <th></th>\n",
       "      <th>website</th>\n",
       "    </tr>\n",
       "  </thead>\n",
       "  <tbody>\n",
       "    <tr>\n",
       "      <th>0</th>\n",
       "      <td>codingwithcodex.co.uk</td>\n",
       "    </tr>\n",
       "    <tr>\n",
       "      <th>1</th>\n",
       "      <td>power-now.biz</td>\n",
       "    </tr>\n",
       "    <tr>\n",
       "      <th>2</th>\n",
       "      <td>miracledoors.com</td>\n",
       "    </tr>\n",
       "    <tr>\n",
       "      <th>3</th>\n",
       "      <td>carlsonconsulting.net</td>\n",
       "    </tr>\n",
       "    <tr>\n",
       "      <th>4</th>\n",
       "      <td>beaconmarketinggroupinc.com</td>\n",
       "    </tr>\n",
       "    <tr>\n",
       "      <th>...</th>\n",
       "      <td>...</td>\n",
       "    </tr>\n",
       "    <tr>\n",
       "      <th>199995</th>\n",
       "      <td>acao.org</td>\n",
       "    </tr>\n",
       "    <tr>\n",
       "      <th>199996</th>\n",
       "      <td>3dpt.com</td>\n",
       "    </tr>\n",
       "    <tr>\n",
       "      <th>199997</th>\n",
       "      <td>whalesrus.com</td>\n",
       "    </tr>\n",
       "    <tr>\n",
       "      <th>199998</th>\n",
       "      <td>nursingunlimitedonline.com</td>\n",
       "    </tr>\n",
       "    <tr>\n",
       "      <th>199999</th>\n",
       "      <td>salutemyteamentertainment.com</td>\n",
       "    </tr>\n",
       "  </tbody>\n",
       "</table>\n",
       "<p>200000 rows × 1 columns</p>\n",
       "</div>"
      ],
      "text/plain": [
       "                              website\n",
       "0               codingwithcodex.co.uk\n",
       "1                       power-now.biz\n",
       "2                    miracledoors.com\n",
       "3               carlsonconsulting.net\n",
       "4         beaconmarketinggroupinc.com\n",
       "...                               ...\n",
       "199995                       acao.org\n",
       "199996                       3dpt.com\n",
       "199997                  whalesrus.com\n",
       "199998     nursingunlimitedonline.com\n",
       "199999  salutemyteamentertainment.com\n",
       "\n",
       "[200000 rows x 1 columns]"
      ]
     },
     "execution_count": 44,
     "metadata": {},
     "output_type": "execute_result"
    }
   ],
   "source": [
    "targets.iloc[i*CHUNK_SIZE:(i+1)*CHUNK_SIZE]"
   ]
  },
  {
   "cell_type": "code",
   "execution_count": null,
   "metadata": {},
   "outputs": [],
   "source": []
  }
 ],
 "metadata": {
  "kernelspec": {
   "display_name": "Python 3",
   "language": "python",
   "name": "python3"
  },
  "language_info": {
   "codemirror_mode": {
    "name": "ipython",
    "version": 3
   },
   "file_extension": ".py",
   "mimetype": "text/x-python",
   "name": "python",
   "nbconvert_exporter": "python",
   "pygments_lexer": "ipython3",
   "version": "3.7.6"
  }
 },
 "nbformat": 4,
 "nbformat_minor": 4
}
